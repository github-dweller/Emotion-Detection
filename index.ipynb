{
 "cells": [
  {
   "cell_type": "markdown",
   "metadata": {},
   "source": [
    "# Audio Emotion Classification:\n",
    "in this project we will conceptualize and code a model that classifies Audio signals into 3 possible emotions.  \n",
    "## Libraries"
   ]
  },
  {
   "cell_type": "code",
   "execution_count": 147,
   "metadata": {},
   "outputs": [],
   "source": [
    "import torch\n",
    "import torch.nn as nn\n",
    "import os\n",
    "import numpy as np\n",
    "import librosa\n",
    "import random\n",
    "import math\n",
    "import matplotlib.pyplot as plt\n",
    "import json\n",
    "from torch.nn.functional import relu as ReLU"
   ]
  },
  {
   "cell_type": "markdown",
   "metadata": {},
   "source": [
    "## Preprocessing\n",
    "get, extract words and normalize (amplitude and time)"
   ]
  },
  {
   "cell_type": "code",
   "execution_count": 197,
   "metadata": {},
   "outputs": [],
   "source": [
    "def load_wavs(directory):\n",
    "    wavs = []\n",
    "    filenames = os.listdir(directory)\n",
    "    for filename in filenames[0:30]:\n",
    "        _, _, _, _, emotion, _ = filename.replace(\".wav\", \"\").split(\"-\")\n",
    "        y, sr = librosa.load(os.path.join(directory, filename))\n",
    "        wavs.append((y, int(emotion)))\n",
    "    return wavs\n",
    "\n",
    "def load_noise(directory):\n",
    "    noise = []\n",
    "    filenames = os.listdir(directory)\n",
    "    for filename in filenames[0:30]:\n",
    "        y, sr = librosa.load(os.path.join(directory, filename))\n",
    "        noise.append((y, 3))\n",
    "    return noise\n",
    "\n",
    "def random_pad(signal, padding):\n",
    "    point = math.floor(random.random()*padding)\n",
    "    return np.concatenate((np.zeros(point), signal, np.zeros(padding - point)))\n",
    "    \n",
    "def normalize_time(signals):\n",
    "    padded_signals = []\n",
    "    max_length = max([len(signal) for signal in signals])\n",
    "    for signal in signals: padded_signals.append(random_pad(signal, max_length - len(signal)))\n",
    "    return padded_signals\n",
    "\n",
    "def normalize_amplitude(signal):\n",
    "    normalized_signal = (signal - np.mean(signal))/np.std(signal)\n",
    "    return normalized_signal"
   ]
  },
  {
   "cell_type": "markdown",
   "metadata": {},
   "source": [
    "## Features Extraction\n",
    "extracting:  \n",
    "- 40 Mel-frequency cepstral coefficients (MFCC)\n",
    "- 128 Mel spectrogram\n",
    "- 12 chromagram\n",
    "- Other 6 features (RMS energy, energy, zero crossing\n",
    "rate (ZCR), spectral centroid, spectral flux, and\n",
    "spectral rolloff)"
   ]
  },
  {
   "cell_type": "code",
   "execution_count": 198,
   "metadata": {},
   "outputs": [],
   "source": [
    "def extract_features(y, sr):\n",
    "    # Extract MFCC features\n",
    "    mfcc = librosa.feature.mfcc(y=y, sr=sr, n_mfcc=13)  # 40 MFCCs\n",
    "    mfcc = mfcc.flatten()  # Flatten MFCC\n",
    "    \n",
    "    # Extract Mel spectrogram\n",
    "    # mel_spec = librosa.feature.melspectrogram(y=y, sr=sr, n_mels=128)  # 128 Mel bins\n",
    "    # mel_spec = librosa.power_to_db(mel_spec, ref=np.max)  # Convert to decibel scale\n",
    "    # mel_spec = mel_spec.flatten()  # Flatten Mel spectrogram\n",
    "\n",
    "    # # Extract chromagram\n",
    "    # chroma = librosa.feature.chroma_stft(y=y, sr=sr, n_chroma=12)  # 12 chroma bins\n",
    "    # chroma = chroma.flatten()  # Flatten chromagram\n",
    "\n",
    "    # # Extract other features\n",
    "    # rms = librosa.feature.rms(y=y)  # RMS energy\n",
    "    # rms = rms.flatten()  # Flatten RMS\n",
    "\n",
    "    # energy = np.sum(y ** 2) / np.float64(len(y))  # Energy\n",
    "    # zero_crossing_rate = librosa.feature.zero_crossing_rate(y)  # Zero crossing rate\n",
    "    # zero_crossing_rate = zero_crossing_rate.flatten()  # Flatten zero crossing rate\n",
    "    # spectral_centroid = librosa.feature.spectral_centroid(y=y, sr=sr)  # Spectral centroid\n",
    "    # spectral_centroid = spectral_centroid.flatten()  # Flatten spectral centroid\n",
    "    # spectral_flux = librosa.onset.onset_strength(y=y, sr=sr)  # Spectral flux\n",
    "    # spectral_flux = spectral_flux.flatten()  # Flatten spectral flux\n",
    "    # spectral_rolloff = librosa.feature.spectral_rolloff(y=y, sr=sr)  # Spectral rolloff\n",
    "    # spectral_rolloff = spectral_rolloff.flatten()  # Flatten spectral rolloff\n",
    "\n",
    "    # Combine all features\n",
    "    features = mfcc.tolist()\n",
    "\n",
    "    return features"
   ]
  },
  {
   "cell_type": "markdown",
   "metadata": {},
   "source": [
    "## Convolutional Neural Network architecture\n",
    "<img src=\"CNN_Architecture.png\" width=\"500\">"
   ]
  },
  {
   "cell_type": "code",
   "execution_count": 202,
   "metadata": {},
   "outputs": [],
   "source": [
    "class Model(nn.Module):\n",
    "    def __init__(self, feature_count):\n",
    "        super().__init__()\n",
    "        # convolutional layers\n",
    "        self.conv1 = nn.Conv1d(in_channels=1, out_channels=512, kernel_size=3, padding=1)\n",
    "        self.conv2 = nn.Conv1d(in_channels=512, out_channels=512, kernel_size=3, padding=1)\n",
    "        self.bn1 = nn.BatchNorm1d(512)\n",
    "        self.conv3 = nn.Conv1d(in_channels=512, out_channels=256, kernel_size=3, padding=1)\n",
    "        self.conv4 = nn.Conv1d(in_channels=256, out_channels=256, kernel_size=3, padding=1)\n",
    "        self.bn2 = nn.BatchNorm1d(256)\n",
    "        self.conv5 = nn.Conv1d(in_channels=256, out_channels=128, kernel_size=3, padding=1)\n",
    "        self.bn3 = nn.BatchNorm1d(128)\n",
    "        self.pool = nn.MaxPool1d(kernel_size=2)\n",
    "        self.flattening_count = feature_count\n",
    "        for i in range(5): self.flattening_count = math.floor(self.flattening_count/2)\n",
    "            \n",
    "        # fully connected layers\n",
    "        self.fc1 = nn.Linear(128*self.flattening_count, 512)\n",
    "        self.fc2 = nn.Linear(512, 512)\n",
    "        self.fc3 = nn.Linear(512, 4)\n",
    "        \n",
    "    def forward(self, x):\n",
    "        # convolutional layers\n",
    "        x = self.pool(self.bn1(torch.relu(self.conv1(x))))\n",
    "        x = self.pool(self.bn1(torch.relu(self.conv2(x))))\n",
    "        x = self.pool(self.bn2(torch.relu(self.conv3(x))))\n",
    "        x = self.pool(self.bn2(torch.relu(self.conv4(x))))\n",
    "        x = self.pool(self.bn3(torch.relu(self.conv5(x))))\n",
    "        \n",
    "        # fully connected layers\n",
    "        x = x.view(-1, 128 * self.flattening_count)\n",
    "        x = torch.relu(self.fc1(x))\n",
    "        x = torch.relu(self.fc2(x))\n",
    "        x = self.fc3(x)  # No activation function for the output layer\n",
    "        \n",
    "        return x\n",
    "        \n",
    "    def train(self, x, y, critereon, optimizer, epoch):\n",
    "        losses = []\n",
    "        for e in range(epoch):\n",
    "            y_pred = self.forward(x)\n",
    "            loss = critereon(y_pred, y)\n",
    "            losses.append(loss.item())\n",
    "            optimizer.zero_grad()\n",
    "            loss.backward()\n",
    "            optimizer.step()\n",
    "        return losses"
   ]
  },
  {
   "cell_type": "markdown",
   "metadata": {},
   "source": [
    "## creating data"
   ]
  },
  {
   "cell_type": "code",
   "execution_count": 203,
   "metadata": {},
   "outputs": [],
   "source": [
    "wavs = load_wavs(\"wavs\")\n",
    "noise = load_noise(\"noise\")\n",
    "signals = normalize_time([wav[0] for wav in wavs] + [n[0] for n in noise])\n",
    "x = [extract_features(signal, 22050) for signal in signals]\n",
    "y = [wav[1] for wav in wavs] + [n[1] for n in noise]\n",
    "with open(\"data.json\", \"w\") as fp:\n",
    "    json.dump({\"x\": x, \"y\": y}, fp, indent = 4)\n"
   ]
  },
  {
   "cell_type": "markdown",
   "metadata": {},
   "source": [
    "## putting everything together"
   ]
  },
  {
   "cell_type": "code",
   "execution_count": 204,
   "metadata": {},
   "outputs": [
    {
     "data": {
      "image/png": "[encoded data removed]",
      "text/plain": [
       "<Figure size 640x480 with 1 Axes>"
      ]
     },
     "metadata": {},
     "output_type": "display_data"
    }
   ],
   "source": [
    "## loading the data\n",
    "with open(\"data.json\", \"r\") as fp:\n",
    "    data = json.load(fp)\n",
    "x = data[\"x\"]\n",
    "y = data[\"y\"]\n",
    "\n",
    "x = torch.FloatTensor(data[\"x\"]).unsqueeze(1)\n",
    "y = torch.LongTensor(data[\"y\"])\n",
    "## splitting the data\n",
    "\n",
    "## creating the model\n",
    "model = Model(len(x[0][0]))\n",
    "\n",
    "## specifying loss function and optimization method\n",
    "critereon = nn.CrossEntropyLoss()\n",
    "optimizer = torch.optim.SGD(model.parameters(), lr=0.01)\n",
    "\n",
    "## training the model\n",
    "losses = model.train(x, y, critereon, optimizer, 100)\n",
    "\n",
    "## displaying results\n",
    "display_losses(losses)"
   ]
  },
  {
   "cell_type": "code",
   "execution_count": null,
   "metadata": {},
   "outputs": [],
   "source": []
  }
 ],
 "metadata": {
  "kernelspec": {
   "display_name": "Python 3 (ipykernel)",
   "language": "python",
   "name": "python3"
  },
  "language_info": {
   "codemirror_mode": {
    "name": "ipython",
    "version": 3
   },
   "file_extension": ".py",
   "mimetype": "text/x-python",
   "name": "python",
   "nbconvert_exporter": "python",
   "pygments_lexer": "ipython3",
   "version": "3.10.12"
  }
 },
 "nbformat": 4,
 "nbformat_minor": 4
}
